{
 "cells": [
  {
   "cell_type": "code",
   "execution_count": 62,
   "metadata": {},
   "outputs": [],
   "source": [
    "#import required libraries\n",
    "import pandas as pd\n",
    "import numpy as np\n",
    "import matplotlib.pyplot as plt\n",
    "import seaborn as sns\n",
    "%matplotlib inline\n",
    "\n",
    "from sklearn.model_selection import cross_val_score\n",
    "from sklearn.linear_model import LinearRegression\n",
    "from sklearn.tree import DecisionTreeRegressor\n",
    "from sklearn.metrics import mean_absolute_error,mean_squared_error, r2_score \n",
    "from sklearn.model_selection import train_test_split\n",
    "from sklearn.preprocessing import StandardScaler\n",
    "\n",
    "plt.style.use(\"seaborn-whitegrid\")\n",
    "pd.pandas.set_option('display.max_columns',None)\n",
    "\n",
    "import warnings\n",
    "warnings.filterwarnings('ignore')"
   ]
  },
  {
   "cell_type": "code",
   "execution_count": 2,
   "metadata": {},
   "outputs": [
    {
     "data": {
      "text/html": [
       "<div>\n",
       "<style scoped>\n",
       "    .dataframe tbody tr th:only-of-type {\n",
       "        vertical-align: middle;\n",
       "    }\n",
       "\n",
       "    .dataframe tbody tr th {\n",
       "        vertical-align: top;\n",
       "    }\n",
       "\n",
       "    .dataframe thead th {\n",
       "        text-align: right;\n",
       "    }\n",
       "</style>\n",
       "<table border=\"1\" class=\"dataframe\">\n",
       "  <thead>\n",
       "    <tr style=\"text-align: right;\">\n",
       "      <th></th>\n",
       "      <th>id</th>\n",
       "      <th>vendor_id</th>\n",
       "      <th>pickup_datetime</th>\n",
       "      <th>dropoff_datetime</th>\n",
       "      <th>passenger_count</th>\n",
       "      <th>pickup_longitude</th>\n",
       "      <th>pickup_latitude</th>\n",
       "      <th>dropoff_longitude</th>\n",
       "      <th>dropoff_latitude</th>\n",
       "      <th>store_and_fwd_flag</th>\n",
       "      <th>trip_duration</th>\n",
       "    </tr>\n",
       "  </thead>\n",
       "  <tbody>\n",
       "    <tr>\n",
       "      <th>0</th>\n",
       "      <td>id1080784</td>\n",
       "      <td>2</td>\n",
       "      <td>2016-02-29 16:40:21</td>\n",
       "      <td>2016-02-29 16:47:01</td>\n",
       "      <td>1</td>\n",
       "      <td>-73.953918</td>\n",
       "      <td>40.778873</td>\n",
       "      <td>-73.963875</td>\n",
       "      <td>40.771164</td>\n",
       "      <td>N</td>\n",
       "      <td>400</td>\n",
       "    </tr>\n",
       "    <tr>\n",
       "      <th>1</th>\n",
       "      <td>id0889885</td>\n",
       "      <td>1</td>\n",
       "      <td>2016-03-11 23:35:37</td>\n",
       "      <td>2016-03-11 23:53:57</td>\n",
       "      <td>2</td>\n",
       "      <td>-73.988312</td>\n",
       "      <td>40.731743</td>\n",
       "      <td>-73.994751</td>\n",
       "      <td>40.694931</td>\n",
       "      <td>N</td>\n",
       "      <td>1100</td>\n",
       "    </tr>\n",
       "    <tr>\n",
       "      <th>2</th>\n",
       "      <td>id0857912</td>\n",
       "      <td>2</td>\n",
       "      <td>2016-02-21 17:59:33</td>\n",
       "      <td>2016-02-21 18:26:48</td>\n",
       "      <td>2</td>\n",
       "      <td>-73.997314</td>\n",
       "      <td>40.721458</td>\n",
       "      <td>-73.948029</td>\n",
       "      <td>40.774918</td>\n",
       "      <td>N</td>\n",
       "      <td>1635</td>\n",
       "    </tr>\n",
       "    <tr>\n",
       "      <th>3</th>\n",
       "      <td>id3744273</td>\n",
       "      <td>2</td>\n",
       "      <td>2016-01-05 09:44:31</td>\n",
       "      <td>2016-01-05 10:03:32</td>\n",
       "      <td>6</td>\n",
       "      <td>-73.961670</td>\n",
       "      <td>40.759720</td>\n",
       "      <td>-73.956779</td>\n",
       "      <td>40.780628</td>\n",
       "      <td>N</td>\n",
       "      <td>1141</td>\n",
       "    </tr>\n",
       "    <tr>\n",
       "      <th>4</th>\n",
       "      <td>id0232939</td>\n",
       "      <td>1</td>\n",
       "      <td>2016-02-17 06:42:23</td>\n",
       "      <td>2016-02-17 06:56:31</td>\n",
       "      <td>1</td>\n",
       "      <td>-74.017120</td>\n",
       "      <td>40.708469</td>\n",
       "      <td>-73.988182</td>\n",
       "      <td>40.740631</td>\n",
       "      <td>N</td>\n",
       "      <td>848</td>\n",
       "    </tr>\n",
       "  </tbody>\n",
       "</table>\n",
       "</div>"
      ],
      "text/plain": [
       "          id  vendor_id      pickup_datetime     dropoff_datetime  \\\n",
       "0  id1080784          2  2016-02-29 16:40:21  2016-02-29 16:47:01   \n",
       "1  id0889885          1  2016-03-11 23:35:37  2016-03-11 23:53:57   \n",
       "2  id0857912          2  2016-02-21 17:59:33  2016-02-21 18:26:48   \n",
       "3  id3744273          2  2016-01-05 09:44:31  2016-01-05 10:03:32   \n",
       "4  id0232939          1  2016-02-17 06:42:23  2016-02-17 06:56:31   \n",
       "\n",
       "   passenger_count  pickup_longitude  pickup_latitude  dropoff_longitude  \\\n",
       "0                1        -73.953918        40.778873         -73.963875   \n",
       "1                2        -73.988312        40.731743         -73.994751   \n",
       "2                2        -73.997314        40.721458         -73.948029   \n",
       "3                6        -73.961670        40.759720         -73.956779   \n",
       "4                1        -74.017120        40.708469         -73.988182   \n",
       "\n",
       "   dropoff_latitude store_and_fwd_flag  trip_duration  \n",
       "0         40.771164                  N            400  \n",
       "1         40.694931                  N           1100  \n",
       "2         40.774918                  N           1635  \n",
       "3         40.780628                  N           1141  \n",
       "4         40.740631                  N            848  "
      ]
     },
     "execution_count": 2,
     "metadata": {},
     "output_type": "execute_result"
    }
   ],
   "source": [
    "#Read the dataset\n",
    "df_data=pd.read_csv('nyc_taxi_trip_duration.csv')\n",
    "df_data.head()"
   ]
  },
  {
   "cell_type": "code",
   "execution_count": 3,
   "metadata": {},
   "outputs": [
    {
     "data": {
      "text/plain": [
       "'The dataset has 729322 rows and 11 columns'"
      ]
     },
     "execution_count": 3,
     "metadata": {},
     "output_type": "execute_result"
    }
   ],
   "source": [
    "#shape of dataset\n",
    "\"The dataset has {} rows and {} columns\".format(df_data.shape[0], df_data.shape[1])"
   ]
  },
  {
   "cell_type": "code",
   "execution_count": 9,
   "metadata": {},
   "outputs": [
    {
     "name": "stdout",
     "output_type": "stream",
     "text": [
      "<class 'pandas.core.frame.DataFrame'>\n",
      "RangeIndex: 729322 entries, 0 to 729321\n",
      "Data columns (total 15 columns):\n",
      " #   Column              Non-Null Count   Dtype  \n",
      "---  ------              --------------   -----  \n",
      " 0   id                  729322 non-null  object \n",
      " 1   vendor_id           729322 non-null  int64  \n",
      " 2   pickup_datetime     729322 non-null  object \n",
      " 3   dropoff_datetime    729322 non-null  object \n",
      " 4   passenger_count     729322 non-null  int64  \n",
      " 5   pickup_longitude    729322 non-null  float64\n",
      " 6   pickup_latitude     729322 non-null  float64\n",
      " 7   dropoff_longitude   729322 non-null  float64\n",
      " 8   dropoff_latitude    729322 non-null  float64\n",
      " 9   store_and_fwd_flag  729322 non-null  object \n",
      " 10  trip_duration       729322 non-null  int64  \n",
      " 11  latitude_diff       729322 non-null  float64\n",
      " 12  longitude_diff      729322 non-null  float64\n",
      " 13  trip_distance       729322 non-null  float64\n",
      " 14  avg_trip_speed      729322 non-null  float64\n",
      "dtypes: float64(8), int64(3), object(4)\n",
      "memory usage: 83.5+ MB\n"
     ]
    }
   ],
   "source": [
    "df_data.info()"
   ]
  },
  {
   "cell_type": "markdown",
   "metadata": {},
   "source": [
    "## 1. Data preprocessing"
   ]
  },
  {
   "cell_type": "markdown",
   "metadata": {},
   "source": [
    "### 1.1 Impute missing values"
   ]
  },
  {
   "cell_type": "code",
   "execution_count": 4,
   "metadata": {},
   "outputs": [
    {
     "data": {
      "text/plain": [
       "id                    0\n",
       "vendor_id             0\n",
       "pickup_datetime       0\n",
       "dropoff_datetime      0\n",
       "passenger_count       0\n",
       "pickup_longitude      0\n",
       "pickup_latitude       0\n",
       "dropoff_longitude     0\n",
       "dropoff_latitude      0\n",
       "store_and_fwd_flag    0\n",
       "trip_duration         0\n",
       "dtype: int64"
      ]
     },
     "execution_count": 4,
     "metadata": {},
     "output_type": "execute_result"
    }
   ],
   "source": [
    "df_data.isnull().sum()"
   ]
  },
  {
   "cell_type": "markdown",
   "metadata": {},
   "source": [
    "Note:\n",
    "* The dataset has no missing values -> So there is no need of imputation here"
   ]
  },
  {
   "cell_type": "markdown",
   "metadata": {},
   "source": [
    "### 1.2. Create new features"
   ]
  },
  {
   "cell_type": "markdown",
   "metadata": {},
   "source": [
    "Note:\n",
    "* First, we will create a new feature named 'trip_distance' by calculating the distance between the pickup and dropoff coordinates.\n",
    "* Next, we will create a new feature named 'avg_trip_speed' by considering 'trip_distance' and 'trip_duration'"
   ]
  },
  {
   "cell_type": "code",
   "execution_count": 5,
   "metadata": {},
   "outputs": [
    {
     "data": {
      "text/html": [
       "<div>\n",
       "<style scoped>\n",
       "    .dataframe tbody tr th:only-of-type {\n",
       "        vertical-align: middle;\n",
       "    }\n",
       "\n",
       "    .dataframe tbody tr th {\n",
       "        vertical-align: top;\n",
       "    }\n",
       "\n",
       "    .dataframe thead th {\n",
       "        text-align: right;\n",
       "    }\n",
       "</style>\n",
       "<table border=\"1\" class=\"dataframe\">\n",
       "  <thead>\n",
       "    <tr style=\"text-align: right;\">\n",
       "      <th></th>\n",
       "      <th>pickup_latitude</th>\n",
       "      <th>pickup_longitude</th>\n",
       "      <th>dropoff_latitude</th>\n",
       "      <th>dropoff_longitude</th>\n",
       "    </tr>\n",
       "  </thead>\n",
       "  <tbody>\n",
       "    <tr>\n",
       "      <th>count</th>\n",
       "      <td>729322.000000</td>\n",
       "      <td>729322.000000</td>\n",
       "      <td>729322.000000</td>\n",
       "      <td>729322.000000</td>\n",
       "    </tr>\n",
       "    <tr>\n",
       "      <th>mean</th>\n",
       "      <td>40.750919</td>\n",
       "      <td>-73.973513</td>\n",
       "      <td>40.751775</td>\n",
       "      <td>-73.973422</td>\n",
       "    </tr>\n",
       "    <tr>\n",
       "      <th>std</th>\n",
       "      <td>0.033594</td>\n",
       "      <td>0.069754</td>\n",
       "      <td>0.036037</td>\n",
       "      <td>0.069588</td>\n",
       "    </tr>\n",
       "    <tr>\n",
       "      <th>min</th>\n",
       "      <td>34.712234</td>\n",
       "      <td>-121.933342</td>\n",
       "      <td>32.181141</td>\n",
       "      <td>-121.933304</td>\n",
       "    </tr>\n",
       "    <tr>\n",
       "      <th>25%</th>\n",
       "      <td>40.737335</td>\n",
       "      <td>-73.991859</td>\n",
       "      <td>40.735931</td>\n",
       "      <td>-73.991318</td>\n",
       "    </tr>\n",
       "    <tr>\n",
       "      <th>50%</th>\n",
       "      <td>40.754070</td>\n",
       "      <td>-73.981758</td>\n",
       "      <td>40.754509</td>\n",
       "      <td>-73.979759</td>\n",
       "    </tr>\n",
       "    <tr>\n",
       "      <th>75%</th>\n",
       "      <td>40.768314</td>\n",
       "      <td>-73.967361</td>\n",
       "      <td>40.769741</td>\n",
       "      <td>-73.963036</td>\n",
       "    </tr>\n",
       "    <tr>\n",
       "      <th>max</th>\n",
       "      <td>51.881084</td>\n",
       "      <td>-65.897385</td>\n",
       "      <td>43.921028</td>\n",
       "      <td>-65.897385</td>\n",
       "    </tr>\n",
       "  </tbody>\n",
       "</table>\n",
       "</div>"
      ],
      "text/plain": [
       "       pickup_latitude  pickup_longitude  dropoff_latitude  dropoff_longitude\n",
       "count    729322.000000     729322.000000     729322.000000      729322.000000\n",
       "mean         40.750919        -73.973513         40.751775         -73.973422\n",
       "std           0.033594          0.069754          0.036037           0.069588\n",
       "min          34.712234       -121.933342         32.181141        -121.933304\n",
       "25%          40.737335        -73.991859         40.735931         -73.991318\n",
       "50%          40.754070        -73.981758         40.754509         -73.979759\n",
       "75%          40.768314        -73.967361         40.769741         -73.963036\n",
       "max          51.881084        -65.897385         43.921028         -65.897385"
      ]
     },
     "execution_count": 5,
     "metadata": {},
     "output_type": "execute_result"
    }
   ],
   "source": [
    "df_data[['pickup_latitude','pickup_longitude','dropoff_latitude','dropoff_longitude']].describe()"
   ]
  },
  {
   "attachments": {
    "image.png": {
     "image/png": "[encoded data removed]"
    }
   },
   "cell_type": "markdown",
   "metadata": {},
   "source": [
    "Haversine formula to calculate the distance between two coordinates:-\n",
    "![image.png](attachment:image.png)"
   ]
  },
  {
   "cell_type": "code",
   "execution_count": 6,
   "metadata": {},
   "outputs": [],
   "source": [
    "#Convert into radians\n",
    "df_data['pickup_latitude']=np.radians(df_data['pickup_latitude'])\n",
    "df_data['pickup_longitude']=np.radians(df_data['pickup_longitude'])\n",
    "df_data['dropoff_latitude']=np.radians(df_data['dropoff_latitude'])\n",
    "df_data['dropoff_longitude']=np.radians(df_data['dropoff_longitude'])\n",
    "\n",
    "#Calculate the difference\n",
    "df_data['latitude_diff']=df_data['dropoff_latitude']-df_data['pickup_latitude']\n",
    "df_data['longitude_diff']=df_data['dropoff_longitude']-df_data['pickup_longitude']\n",
    "\n",
    "#calculate the distance in meter\n",
    "df_data['trip_distance']=1000 * 6371 * 2 * np.arcsin(\n",
    "    np.sqrt(\n",
    "        np.sin(df_data['latitude_diff']/2)**2\n",
    "        + np.cos(df_data['pickup_latitude'])\n",
    "        * np.cos(df_data['dropoff_latitude'])\n",
    "        * np.sin(df_data['longitude_diff']/2)**2\n",
    "    )\n",
    ")"
   ]
  },
  {
   "cell_type": "code",
   "execution_count": 7,
   "metadata": {},
   "outputs": [],
   "source": [
    "#Calculate speed in m/s\n",
    "df_data['avg_trip_speed']=df_data['trip_distance']/df_data['trip_duration']"
   ]
  },
  {
   "cell_type": "code",
   "execution_count": 10,
   "metadata": {},
   "outputs": [],
   "source": [
    "#Function to convert datetime features into datetime datatype and extract useful information\n",
    "def convert_to_date_dtype(Dataframe,col):\n",
    "    #function to convert the given feature into datetime\n",
    "    Dataframe[col] = pd.to_datetime(Dataframe[col], format= '%Y-%m-%d %H:%M:%S')\n",
    "    #extract required components from the datetime feature\n",
    "    Dataframe[col+'_day'] = Dataframe[col].dt.dayofweek\n",
    "    Dataframe[col+'_month'] = Dataframe[col].dt.month\n",
    "    Dataframe[col+'_hour'] = Dataframe[col].dt.hour"
   ]
  },
  {
   "cell_type": "code",
   "execution_count": 11,
   "metadata": {},
   "outputs": [
    {
     "name": "stdout",
     "output_type": "stream",
     "text": [
      "<class 'pandas.core.frame.DataFrame'>\n",
      "RangeIndex: 729322 entries, 0 to 729321\n",
      "Data columns (total 2 columns):\n",
      " #   Column            Non-Null Count   Dtype         \n",
      "---  ------            --------------   -----         \n",
      " 0   pickup_datetime   729322 non-null  datetime64[ns]\n",
      " 1   dropoff_datetime  729322 non-null  datetime64[ns]\n",
      "dtypes: datetime64[ns](2)\n",
      "memory usage: 11.1 MB\n"
     ]
    }
   ],
   "source": [
    "#convert the features into datetime datatype\n",
    "convert_to_date_dtype(df_data, 'pickup_datetime')\n",
    "convert_to_date_dtype(df_data, 'dropoff_datetime')\n",
    "\n",
    "df_data[['pickup_datetime', 'dropoff_datetime']].info()"
   ]
  },
  {
   "cell_type": "code",
   "execution_count": null,
   "metadata": {},
   "outputs": [],
   "source": []
  },
  {
   "cell_type": "markdown",
   "metadata": {},
   "source": [
    "### 1.3. Handle categorical values "
   ]
  },
  {
   "cell_type": "code",
   "execution_count": 14,
   "metadata": {},
   "outputs": [
    {
     "name": "stdout",
     "output_type": "stream",
     "text": [
      "<class 'pandas.core.frame.DataFrame'>\n",
      "RangeIndex: 729322 entries, 0 to 729321\n",
      "Data columns (total 21 columns):\n",
      " #   Column                  Non-Null Count   Dtype         \n",
      "---  ------                  --------------   -----         \n",
      " 0   id                      729322 non-null  object        \n",
      " 1   vendor_id               729322 non-null  int64         \n",
      " 2   pickup_datetime         729322 non-null  datetime64[ns]\n",
      " 3   dropoff_datetime        729322 non-null  datetime64[ns]\n",
      " 4   passenger_count         729322 non-null  int64         \n",
      " 5   pickup_longitude        729322 non-null  float64       \n",
      " 6   pickup_latitude         729322 non-null  float64       \n",
      " 7   dropoff_longitude       729322 non-null  float64       \n",
      " 8   dropoff_latitude        729322 non-null  float64       \n",
      " 9   store_and_fwd_flag      729322 non-null  object        \n",
      " 10  trip_duration           729322 non-null  int64         \n",
      " 11  latitude_diff           729322 non-null  float64       \n",
      " 12  longitude_diff          729322 non-null  float64       \n",
      " 13  trip_distance           729322 non-null  float64       \n",
      " 14  avg_trip_speed          729322 non-null  float64       \n",
      " 15  pickup_datetime_day     729322 non-null  int64         \n",
      " 16  pickup_datetime_month   729322 non-null  int64         \n",
      " 17  pickup_datetime_hour    729322 non-null  int64         \n",
      " 18  dropoff_datetime_day    729322 non-null  int64         \n",
      " 19  dropoff_datetime_month  729322 non-null  int64         \n",
      " 20  dropoff_datetime_hour   729322 non-null  int64         \n",
      "dtypes: datetime64[ns](2), float64(8), int64(9), object(2)\n",
      "memory usage: 116.9+ MB\n"
     ]
    }
   ],
   "source": [
    "df_data.info()"
   ]
  },
  {
   "cell_type": "code",
   "execution_count": 15,
   "metadata": {},
   "outputs": [],
   "source": [
    "#onehot encode and drop the first column\n",
    "store_and_fwd_flag_onehot=pd.get_dummies(df_data['store_and_fwd_flag'],drop_first=True)\n",
    "\n",
    "#concat the onehot encoded column to the main data frame\n",
    "df_data=pd.concat([df_data,store_and_fwd_flag_onehot],axis=1)"
   ]
  },
  {
   "cell_type": "code",
   "execution_count": 16,
   "metadata": {},
   "outputs": [
    {
     "data": {
      "text/html": [
       "<div>\n",
       "<style scoped>\n",
       "    .dataframe tbody tr th:only-of-type {\n",
       "        vertical-align: middle;\n",
       "    }\n",
       "\n",
       "    .dataframe tbody tr th {\n",
       "        vertical-align: top;\n",
       "    }\n",
       "\n",
       "    .dataframe thead th {\n",
       "        text-align: right;\n",
       "    }\n",
       "</style>\n",
       "<table border=\"1\" class=\"dataframe\">\n",
       "  <thead>\n",
       "    <tr style=\"text-align: right;\">\n",
       "      <th></th>\n",
       "      <th>id</th>\n",
       "      <th>vendor_id</th>\n",
       "      <th>pickup_datetime</th>\n",
       "      <th>dropoff_datetime</th>\n",
       "      <th>passenger_count</th>\n",
       "      <th>pickup_longitude</th>\n",
       "      <th>pickup_latitude</th>\n",
       "      <th>dropoff_longitude</th>\n",
       "      <th>dropoff_latitude</th>\n",
       "      <th>store_and_fwd_flag</th>\n",
       "      <th>trip_duration</th>\n",
       "      <th>latitude_diff</th>\n",
       "      <th>longitude_diff</th>\n",
       "      <th>trip_distance</th>\n",
       "      <th>avg_trip_speed</th>\n",
       "      <th>pickup_datetime_day</th>\n",
       "      <th>pickup_datetime_month</th>\n",
       "      <th>pickup_datetime_hour</th>\n",
       "      <th>dropoff_datetime_day</th>\n",
       "      <th>dropoff_datetime_month</th>\n",
       "      <th>dropoff_datetime_hour</th>\n",
       "      <th>Y</th>\n",
       "    </tr>\n",
       "  </thead>\n",
       "  <tbody>\n",
       "    <tr>\n",
       "      <th>0</th>\n",
       "      <td>id1080784</td>\n",
       "      <td>2</td>\n",
       "      <td>2016-02-29 16:40:21</td>\n",
       "      <td>2016-02-29 16:47:01</td>\n",
       "      <td>1</td>\n",
       "      <td>-1.290739</td>\n",
       "      <td>0.711726</td>\n",
       "      <td>-1.290913</td>\n",
       "      <td>0.711591</td>\n",
       "      <td>N</td>\n",
       "      <td>400</td>\n",
       "      <td>-0.000135</td>\n",
       "      <td>-0.000174</td>\n",
       "      <td>1199.072614</td>\n",
       "      <td>2.997682</td>\n",
       "      <td>0</td>\n",
       "      <td>2</td>\n",
       "      <td>16</td>\n",
       "      <td>0</td>\n",
       "      <td>2</td>\n",
       "      <td>16</td>\n",
       "      <td>0</td>\n",
       "    </tr>\n",
       "    <tr>\n",
       "      <th>1</th>\n",
       "      <td>id0889885</td>\n",
       "      <td>1</td>\n",
       "      <td>2016-03-11 23:35:37</td>\n",
       "      <td>2016-03-11 23:53:57</td>\n",
       "      <td>2</td>\n",
       "      <td>-1.291340</td>\n",
       "      <td>0.710903</td>\n",
       "      <td>-1.291452</td>\n",
       "      <td>0.710261</td>\n",
       "      <td>N</td>\n",
       "      <td>1100</td>\n",
       "      <td>-0.000642</td>\n",
       "      <td>-0.000112</td>\n",
       "      <td>4129.110988</td>\n",
       "      <td>3.753737</td>\n",
       "      <td>4</td>\n",
       "      <td>3</td>\n",
       "      <td>23</td>\n",
       "      <td>4</td>\n",
       "      <td>3</td>\n",
       "      <td>23</td>\n",
       "      <td>0</td>\n",
       "    </tr>\n",
       "    <tr>\n",
       "      <th>2</th>\n",
       "      <td>id0857912</td>\n",
       "      <td>2</td>\n",
       "      <td>2016-02-21 17:59:33</td>\n",
       "      <td>2016-02-21 18:26:48</td>\n",
       "      <td>2</td>\n",
       "      <td>-1.291497</td>\n",
       "      <td>0.710724</td>\n",
       "      <td>-1.290637</td>\n",
       "      <td>0.711657</td>\n",
       "      <td>N</td>\n",
       "      <td>1635</td>\n",
       "      <td>0.000933</td>\n",
       "      <td>0.000860</td>\n",
       "      <td>7250.752890</td>\n",
       "      <td>4.434711</td>\n",
       "      <td>6</td>\n",
       "      <td>2</td>\n",
       "      <td>17</td>\n",
       "      <td>6</td>\n",
       "      <td>2</td>\n",
       "      <td>18</td>\n",
       "      <td>0</td>\n",
       "    </tr>\n",
       "    <tr>\n",
       "      <th>3</th>\n",
       "      <td>id3744273</td>\n",
       "      <td>2</td>\n",
       "      <td>2016-01-05 09:44:31</td>\n",
       "      <td>2016-01-05 10:03:32</td>\n",
       "      <td>6</td>\n",
       "      <td>-1.290875</td>\n",
       "      <td>0.711391</td>\n",
       "      <td>-1.290789</td>\n",
       "      <td>0.711756</td>\n",
       "      <td>N</td>\n",
       "      <td>1141</td>\n",
       "      <td>0.000365</td>\n",
       "      <td>0.000085</td>\n",
       "      <td>2361.097363</td>\n",
       "      <td>2.069323</td>\n",
       "      <td>1</td>\n",
       "      <td>1</td>\n",
       "      <td>9</td>\n",
       "      <td>1</td>\n",
       "      <td>1</td>\n",
       "      <td>10</td>\n",
       "      <td>0</td>\n",
       "    </tr>\n",
       "    <tr>\n",
       "      <th>4</th>\n",
       "      <td>id0232939</td>\n",
       "      <td>1</td>\n",
       "      <td>2016-02-17 06:42:23</td>\n",
       "      <td>2016-02-17 06:56:31</td>\n",
       "      <td>1</td>\n",
       "      <td>-1.291842</td>\n",
       "      <td>0.710497</td>\n",
       "      <td>-1.291337</td>\n",
       "      <td>0.711058</td>\n",
       "      <td>N</td>\n",
       "      <td>848</td>\n",
       "      <td>0.000561</td>\n",
       "      <td>0.000505</td>\n",
       "      <td>4328.533890</td>\n",
       "      <td>5.104403</td>\n",
       "      <td>2</td>\n",
       "      <td>2</td>\n",
       "      <td>6</td>\n",
       "      <td>2</td>\n",
       "      <td>2</td>\n",
       "      <td>6</td>\n",
       "      <td>0</td>\n",
       "    </tr>\n",
       "  </tbody>\n",
       "</table>\n",
       "</div>"
      ],
      "text/plain": [
       "          id  vendor_id     pickup_datetime    dropoff_datetime  \\\n",
       "0  id1080784          2 2016-02-29 16:40:21 2016-02-29 16:47:01   \n",
       "1  id0889885          1 2016-03-11 23:35:37 2016-03-11 23:53:57   \n",
       "2  id0857912          2 2016-02-21 17:59:33 2016-02-21 18:26:48   \n",
       "3  id3744273          2 2016-01-05 09:44:31 2016-01-05 10:03:32   \n",
       "4  id0232939          1 2016-02-17 06:42:23 2016-02-17 06:56:31   \n",
       "\n",
       "   passenger_count  pickup_longitude  pickup_latitude  dropoff_longitude  \\\n",
       "0                1         -1.290739         0.711726          -1.290913   \n",
       "1                2         -1.291340         0.710903          -1.291452   \n",
       "2                2         -1.291497         0.710724          -1.290637   \n",
       "3                6         -1.290875         0.711391          -1.290789   \n",
       "4                1         -1.291842         0.710497          -1.291337   \n",
       "\n",
       "   dropoff_latitude store_and_fwd_flag  trip_duration  latitude_diff  \\\n",
       "0          0.711591                  N            400      -0.000135   \n",
       "1          0.710261                  N           1100      -0.000642   \n",
       "2          0.711657                  N           1635       0.000933   \n",
       "3          0.711756                  N           1141       0.000365   \n",
       "4          0.711058                  N            848       0.000561   \n",
       "\n",
       "   longitude_diff  trip_distance  avg_trip_speed  pickup_datetime_day  \\\n",
       "0       -0.000174    1199.072614        2.997682                    0   \n",
       "1       -0.000112    4129.110988        3.753737                    4   \n",
       "2        0.000860    7250.752890        4.434711                    6   \n",
       "3        0.000085    2361.097363        2.069323                    1   \n",
       "4        0.000505    4328.533890        5.104403                    2   \n",
       "\n",
       "   pickup_datetime_month  pickup_datetime_hour  dropoff_datetime_day  \\\n",
       "0                      2                    16                     0   \n",
       "1                      3                    23                     4   \n",
       "2                      2                    17                     6   \n",
       "3                      1                     9                     1   \n",
       "4                      2                     6                     2   \n",
       "\n",
       "   dropoff_datetime_month  dropoff_datetime_hour  Y  \n",
       "0                       2                     16  0  \n",
       "1                       3                     23  0  \n",
       "2                       2                     18  0  \n",
       "3                       1                     10  0  \n",
       "4                       2                      6  0  "
      ]
     },
     "execution_count": 16,
     "metadata": {},
     "output_type": "execute_result"
    }
   ],
   "source": [
    "df_data.head()"
   ]
  },
  {
   "cell_type": "markdown",
   "metadata": {},
   "source": [
    "### 1.4. Drop features that are not required"
   ]
  },
  {
   "cell_type": "code",
   "execution_count": 17,
   "metadata": {},
   "outputs": [
    {
     "data": {
      "text/plain": [
       "Index(['id', 'vendor_id', 'pickup_datetime', 'dropoff_datetime',\n",
       "       'passenger_count', 'pickup_longitude', 'pickup_latitude',\n",
       "       'dropoff_longitude', 'dropoff_latitude', 'store_and_fwd_flag',\n",
       "       'trip_duration', 'latitude_diff', 'longitude_diff', 'trip_distance',\n",
       "       'avg_trip_speed', 'pickup_datetime_day', 'pickup_datetime_month',\n",
       "       'pickup_datetime_hour', 'dropoff_datetime_day',\n",
       "       'dropoff_datetime_month', 'dropoff_datetime_hour', 'Y'],\n",
       "      dtype='object')"
      ]
     },
     "execution_count": 17,
     "metadata": {},
     "output_type": "execute_result"
    }
   ],
   "source": [
    "df_data.columns"
   ]
  },
  {
   "cell_type": "code",
   "execution_count": 18,
   "metadata": {},
   "outputs": [],
   "source": [
    "drop_cols=['id','pickup_datetime', 'dropoff_datetime','pickup_longitude', 'pickup_latitude',\n",
    "          'dropoff_longitude', 'dropoff_latitude','store_and_fwd_flag','latitude_diff','longitude_diff']\n",
    "\n",
    "df_data.drop(drop_cols,axis=1,inplace=True)"
   ]
  },
  {
   "cell_type": "code",
   "execution_count": 19,
   "metadata": {},
   "outputs": [
    {
     "data": {
      "text/plain": [
       "Index(['vendor_id', 'passenger_count', 'trip_duration', 'trip_distance',\n",
       "       'avg_trip_speed', 'pickup_datetime_day', 'pickup_datetime_month',\n",
       "       'pickup_datetime_hour', 'dropoff_datetime_day',\n",
       "       'dropoff_datetime_month', 'dropoff_datetime_hour', 'Y'],\n",
       "      dtype='object')"
      ]
     },
     "execution_count": 19,
     "metadata": {},
     "output_type": "execute_result"
    }
   ],
   "source": [
    "#make sure the columns have been dropped\n",
    "df_data.columns"
   ]
  },
  {
   "cell_type": "markdown",
   "metadata": {},
   "source": [
    "### 1.5. Treat 'vendor_id' as an object"
   ]
  },
  {
   "cell_type": "code",
   "execution_count": 20,
   "metadata": {},
   "outputs": [],
   "source": [
    "df_data['vendor_id']=pd.get_dummies(df_data['vendor_id'],drop_first=True)"
   ]
  },
  {
   "cell_type": "code",
   "execution_count": 21,
   "metadata": {},
   "outputs": [
    {
     "data": {
      "text/plain": [
       "vendor_id                   uint8\n",
       "passenger_count             int64\n",
       "trip_duration               int64\n",
       "trip_distance             float64\n",
       "avg_trip_speed            float64\n",
       "pickup_datetime_day         int64\n",
       "pickup_datetime_month       int64\n",
       "pickup_datetime_hour        int64\n",
       "dropoff_datetime_day        int64\n",
       "dropoff_datetime_month      int64\n",
       "dropoff_datetime_hour       int64\n",
       "Y                           uint8\n",
       "dtype: object"
      ]
     },
     "execution_count": 21,
     "metadata": {},
     "output_type": "execute_result"
    }
   ],
   "source": [
    "df_data.dtypes"
   ]
  },
  {
   "cell_type": "markdown",
   "metadata": {},
   "source": [
    "### 1.6. Transform target feature"
   ]
  },
  {
   "cell_type": "code",
   "execution_count": 36,
   "metadata": {},
   "outputs": [
    {
     "data": {
      "text/plain": [
       "count    7.293220e+05\n",
       "mean     9.522291e+02\n",
       "std      3.864626e+03\n",
       "min      1.000000e+00\n",
       "25%      3.970000e+02\n",
       "50%      6.630000e+02\n",
       "75%      1.075000e+03\n",
       "max      1.939736e+06\n",
       "Name: trip_duration, dtype: float64"
      ]
     },
     "execution_count": 36,
     "metadata": {},
     "output_type": "execute_result"
    },
    {
     "data": {
      "image/png": "[encoded data removed]",
      "text/plain": [
       "<Figure size 432x288 with 1 Axes>"
      ]
     },
     "metadata": {},
     "output_type": "display_data"
    }
   ],
   "source": [
    "#Before transformation\n",
    "sns.distplot(a=df_data['trip_duration'], bins=50)\n",
    "df_data['trip_duration'].describe()"
   ]
  },
  {
   "cell_type": "code",
   "execution_count": 37,
   "metadata": {},
   "outputs": [
    {
     "data": {
      "text/plain": [
       "<matplotlib.axes._subplots.AxesSubplot at 0x20616b5e7f0>"
      ]
     },
     "execution_count": 37,
     "metadata": {},
     "output_type": "execute_result"
    },
    {
     "data": {
      "image/png": "[encoded data removed]",
      "text/plain": [
       "<Figure size 432x288 with 1 Axes>"
      ]
     },
     "metadata": {},
     "output_type": "display_data"
    }
   ],
   "source": [
    "#After transformation\n",
    "df_data['trip_duration']=np.log(df_data['trip_duration'])\n",
    "sns.distplot(a=df_data['trip_duration'],bins=50)"
   ]
  },
  {
   "cell_type": "markdown",
   "metadata": {},
   "source": [
    "## 2. Model Building"
   ]
  },
  {
   "cell_type": "code",
   "execution_count": 44,
   "metadata": {},
   "outputs": [],
   "source": [
    "#seperate dependent and independent features\n",
    "X=df_data.drop(['trip_duration'],axis=1)\n",
    "y=df_data['trip_duration']"
   ]
  },
  {
   "cell_type": "code",
   "execution_count": 45,
   "metadata": {},
   "outputs": [
    {
     "name": "stdout",
     "output_type": "stream",
     "text": [
      "Train (510525, 11) (510525,)\n",
      "Test (218797, 11) (218797,)\n"
     ]
    }
   ],
   "source": [
    "# Break off dataset into train and test data\n",
    "X_train, X_test, y_train, y_test = train_test_split(X, y, train_size=0.7, test_size=0.3, random_state=0)\n",
    "# summarize\n",
    "print('Train', X_train.shape, y_train.shape)\n",
    "print('Test', X_test.shape, y_test.shape)"
   ]
  },
  {
   "cell_type": "code",
   "execution_count": 46,
   "metadata": {},
   "outputs": [],
   "source": [
    "#Scale the data\n",
    "ss=StandardScaler()\n",
    "\n",
    "X_train_sc=ss.fit_transform(X_train)\n",
    "X_test_sc=ss.transform(X_test)"
   ]
  },
  {
   "cell_type": "markdown",
   "metadata": {},
   "source": [
    "### 2.1. Baseline model"
   ]
  },
  {
   "cell_type": "code",
   "execution_count": 56,
   "metadata": {},
   "outputs": [
    {
     "name": "stdout",
     "output_type": "stream",
     "text": [
      "MAE: 0.6079333062776431\n",
      "MSE: 0.6446183209013656\n",
      "RMSE: 0.8028812620190894\n",
      "R2 -3.0755516736258315e-05\n"
     ]
    }
   ],
   "source": [
    "#Baseline model using mean\n",
    "baseline_pred=np.repeat(y_train.mean(),len(y_test))\n",
    "\n",
    "print('MAE:', mean_absolute_error(y_test, baseline_pred))\n",
    "print('MSE:', mean_squared_error(y_test, baseline_pred))\n",
    "print('RMSE:', np.sqrt(mean_squared_error(y_test, baseline_pred)))\n",
    "print('R2', r2_score(y_test,baseline_pred))"
   ]
  },
  {
   "cell_type": "markdown",
   "metadata": {},
   "source": [
    "### 2.2. Linear Regression Model"
   ]
  },
  {
   "cell_type": "code",
   "execution_count": 57,
   "metadata": {},
   "outputs": [
    {
     "data": {
      "text/plain": [
       "LinearRegression()"
      ]
     },
     "execution_count": 57,
     "metadata": {},
     "output_type": "execute_result"
    }
   ],
   "source": [
    "lr_model=LinearRegression(random_state=10)\n",
    "\n",
    "lr_model.fit(X_train_sc,y_train)"
   ]
  },
  {
   "cell_type": "code",
   "execution_count": 58,
   "metadata": {},
   "outputs": [],
   "source": [
    "pred=lr_model.predict(X_test_sc)"
   ]
  },
  {
   "cell_type": "code",
   "execution_count": 59,
   "metadata": {},
   "outputs": [
    {
     "name": "stdout",
     "output_type": "stream",
     "text": [
      "MAE: 0.37492412566037425\n",
      "MSE: 0.3092035053165598\n",
      "RMSE: 0.5560607029062203\n",
      "R2 0.5203161235042592\n"
     ]
    }
   ],
   "source": [
    "print('MAE:', mean_absolute_error(y_test, pred))\n",
    "print('MSE:', mean_squared_error(y_test, pred))\n",
    "print('RMSE:', np.sqrt(mean_squared_error(y_test, pred)))\n",
    "print('R2', r2_score(y_test,pred))"
   ]
  },
  {
   "cell_type": "code",
   "execution_count": 60,
   "metadata": {},
   "outputs": [
    {
     "data": {
      "text/plain": [
       "array([ 9.26118781e-03,  5.92036669e-03,  6.99538786e-01, -4.37335719e-01,\n",
       "       -2.48562886e-02, -1.14749181e+00,  6.20490040e-04,  1.58981277e-02,\n",
       "        1.16738724e+00,  1.53462021e-02, -2.19606789e-03])"
      ]
     },
     "execution_count": 60,
     "metadata": {},
     "output_type": "execute_result"
    }
   ],
   "source": [
    "lr_model.coef_"
   ]
  },
  {
   "cell_type": "code",
   "execution_count": 61,
   "metadata": {},
   "outputs": [
    {
     "data": {
      "text/plain": [
       "Text(0.5, 1.0, 'Linear Regression Coefficient plot')"
      ]
     },
     "execution_count": 61,
     "metadata": {},
     "output_type": "execute_result"
    },
    {
     "data": {
      "image/png": "[encoded data removed]",
      "text/plain": [
       "<Figure size 600x600 with 1 Axes>"
      ]
     },
     "metadata": {},
     "output_type": "display_data"
    }
   ],
   "source": [
    "plt.figure(figsize=(5, 5), dpi=120, facecolor='w', edgecolor='b')\n",
    "x = range(len(X_train.columns))\n",
    "y = lr_model.coef_\n",
    "plt.bar( x, y )\n",
    "plt.xlabel( \"Variables\")\n",
    "plt.ylabel('Coefficients')\n",
    "plt.title('Linear Regression Coefficient plot')"
   ]
  },
  {
   "cell_type": "code",
   "execution_count": null,
   "metadata": {},
   "outputs": [],
   "source": []
  },
  {
   "cell_type": "markdown",
   "metadata": {},
   "source": [
    "### 2.3. Decision Tree Model"
   ]
  },
  {
   "cell_type": "code",
   "execution_count": 64,
   "metadata": {},
   "outputs": [
    {
     "data": {
      "text/plain": [
       "DecisionTreeRegressor(random_state=10)"
      ]
     },
     "execution_count": 64,
     "metadata": {},
     "output_type": "execute_result"
    }
   ],
   "source": [
    "dtr_model=DecisionTreeRegressor(random_state=10)\n",
    "dtr_model.fit(X_train_sc,y_train)"
   ]
  },
  {
   "cell_type": "code",
   "execution_count": 65,
   "metadata": {},
   "outputs": [],
   "source": [
    "pred=dtr_model.predict(X_test_sc)"
   ]
  },
  {
   "cell_type": "code",
   "execution_count": 66,
   "metadata": {},
   "outputs": [
    {
     "name": "stdout",
     "output_type": "stream",
     "text": [
      "MAE: 0.011575714773075127\n",
      "MSE: 0.019897534740149027\n",
      "RMSE: 0.14105862164415556\n",
      "R2 0.969131893937969\n"
     ]
    }
   ],
   "source": [
    "print('MAE:', mean_absolute_error(y_test, pred))\n",
    "print('MSE:', mean_squared_error(y_test, pred))\n",
    "print('RMSE:', np.sqrt(mean_squared_error(y_test, pred)))\n",
    "print('R2', r2_score(y_test,pred))"
   ]
  },
  {
   "cell_type": "code",
   "execution_count": null,
   "metadata": {},
   "outputs": [],
   "source": []
  },
  {
   "cell_type": "code",
   "execution_count": null,
   "metadata": {},
   "outputs": [],
   "source": []
  },
  {
   "cell_type": "code",
   "execution_count": null,
   "metadata": {},
   "outputs": [],
   "source": []
  }
 ],
 "metadata": {
  "kernelspec": {
   "display_name": "Python 3 (ipykernel)",
   "language": "python",
   "name": "python3"
  },
  "language_info": {
   "codemirror_mode": {
    "name": "ipython",
    "version": 3
   },
   "file_extension": ".py",
   "mimetype": "text/x-python",
   "name": "python",
   "nbconvert_exporter": "python",
   "pygments_lexer": "ipython3",
   "version": "3.7.3"
  }
 },
 "nbformat": 4,
 "nbformat_minor": 2
}
